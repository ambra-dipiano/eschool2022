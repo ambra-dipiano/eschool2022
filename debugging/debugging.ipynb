{
 "cells": [
  {
   "cell_type": "markdown",
   "metadata": {},
   "source": [
    "# Debugging Hands On\n",
    "\n",
    "In this hands-on tutorial, you will attempt to debug a simple python script **without adding any `print()` statements**, using only the PDB debugger (for the 3rd part, you may also use a GUI debugger like the one included in *PyCharm* if you already know how to use it)\n",
    "\n",
    "For this hands-on session, you will try debugging code in several ways: \n",
    "\n",
    "1. within the ipython notebook\n",
    "2. on the command-line using ipython after an exception\n",
    "3. on the command-line using pdb\n",
    "\n",
    "\n",
    "** Common debugging commands: **\n",
    "\n",
    "* `r`: start to *run* script\n",
    "* `n`: execute *next* line\n",
    "* `s`: *step* into a function call (not to next line)\n",
    "* `bt`: show full stack backtrace \n",
    "* `l` or `ll`: print the code that is currently executing\n",
    "* `c` continue running until next error or breakpoint\n",
    "* `q`: quit the debugger\n",
    "\n",
    "\n",
    "## Part 1: debugging an ipython notebook function:\n",
    "\n"
   ]
  },
  {
   "cell_type": "markdown",
   "metadata": {},
   "source": [
    "Here is a small program that we want to debug:\n",
    "\n",
    "Remember: we can use ``breakpoint()`` to start the debugger, or use `%debug` after an error"
   ]
  },
  {
   "cell_type": "code",
   "execution_count": 9,
   "metadata": {
    "tags": [
     "raises-exception"
    ]
   },
   "outputs": [
    {
     "data": {
      "image/png": "[encoded data removed]",
      "text/plain": [
       "<Figure size 432x288 with 1 Axes>"
      ]
     },
     "metadata": {
      "needs_background": "light"
     },
     "output_type": "display_data"
    }
   ],
   "source": [
    "import math\n",
    "import numpy as np\n",
    "import matplotlib.pyplot as plt\n",
    "\n",
    "GOLDEN = (1 + 5 ** 0.5) / 2\n",
    "\n",
    "\n",
    "def fibonacci(k):\n",
    "\n",
    "    if k == 0:\n",
    "        return 0\n",
    "    if k == 1:\n",
    "        return 1\n",
    "\n",
    "    return fibonacci(k - 2) + fibonacci(k - 1)\n",
    "\n",
    "\n",
    "def compute_golden_ratio(accuracy_level=10):\n",
    "    return fibonacci(accuracy_level) / fibonacci(accuracy_level - 1)\n",
    "\n",
    "\n",
    "def plot_golden_ratio_approx(max_k=20):\n",
    "\n",
    "    ratios = []\n",
    "\n",
    "    for ii in range(2, max_k):\n",
    "        ratio = compute_golden_ratio(ii)\n",
    "        ratios.append(ratio - GOLDEN)\n",
    "\n",
    "    plt.axhline(0, alpha=0.5, lw=3, color=\"red\")\n",
    "    plt.scatter(np.arange(len(ratios)), ratios)\n",
    "    plt.ylabel(\"difference from Golden Ratio\")\n",
    "\n",
    "\n",
    "if __name__ == \"__main__\":\n",
    "\n",
    "    MAX_VAL = 25\n",
    "    plot_golden_ratio_approx(MAX_VAL)"
   ]
  },
  {
   "cell_type": "markdown",
   "metadata": {},
   "source": [
    "### Task: debug this\n",
    "Try to debug `plot_golden_ratio_approx`.  **There are at least 2 bugs in this code.**  (you may see them just by looking, but even so try to follow the flow of the program adding `set_trace` somewhere in the `print_directory_stats` function, and then using the debugging commands to explore variables and move into `count_types`. Make sure you run the funciton on multiple directories, to make sure all work!\n",
    "\n",
    "Make sure you type 'q' in the debug input window at the end, otherwise you will not be able to continue (or restart your notebook kernel)"
   ]
  },
  {
   "cell_type": "code",
   "execution_count": 10,
   "metadata": {
    "tags": []
   },
   "outputs": [
    {
     "name": "stdout",
     "output_type": "stream",
     "text": [
      "> \u001b[0;32m/tmp/ipykernel_6439/4043541441.py\u001b[0m(31)\u001b[0;36mplot_golden_ratio_approx\u001b[0;34m()\u001b[0m\n",
      "\u001b[0;32m     29 \u001b[0;31m\u001b[0;34m\u001b[0m\u001b[0m\n",
      "\u001b[0m\u001b[0;32m     30 \u001b[0;31m    \u001b[0mplt\u001b[0m\u001b[0;34m.\u001b[0m\u001b[0maxhline\u001b[0m\u001b[0;34m(\u001b[0m\u001b[0;36m0\u001b[0m\u001b[0;34m,\u001b[0m \u001b[0malpha\u001b[0m\u001b[0;34m=\u001b[0m\u001b[0;36m0.5\u001b[0m\u001b[0;34m,\u001b[0m \u001b[0mlw\u001b[0m\u001b[0;34m=\u001b[0m\u001b[0;36m3\u001b[0m\u001b[0;34m,\u001b[0m \u001b[0mcolor\u001b[0m\u001b[0;34m=\u001b[0m\u001b[0;34m\"red\"\u001b[0m\u001b[0;34m)\u001b[0m\u001b[0;34m\u001b[0m\u001b[0;34m\u001b[0m\u001b[0m\n",
      "\u001b[0m\u001b[0;32m---> 31 \u001b[0;31m    \u001b[0mplt\u001b[0m\u001b[0;34m.\u001b[0m\u001b[0mscatter\u001b[0m\u001b[0;34m(\u001b[0m\u001b[0mnp\u001b[0m\u001b[0;34m.\u001b[0m\u001b[0marange\u001b[0m\u001b[0;34m(\u001b[0m\u001b[0mlen\u001b[0m\u001b[0;34m(\u001b[0m\u001b[0mratios\u001b[0m\u001b[0;34m)\u001b[0m\u001b[0;34m,\u001b[0m \u001b[0mratios\u001b[0m\u001b[0;34m)\u001b[0m\u001b[0;34m)\u001b[0m\u001b[0;34m\u001b[0m\u001b[0;34m\u001b[0m\u001b[0m\n",
      "\u001b[0m\u001b[0;32m     32 \u001b[0;31m    \u001b[0mplt\u001b[0m\u001b[0;34m.\u001b[0m\u001b[0mylabel\u001b[0m\u001b[0;34m(\u001b[0m\u001b[0;34m\"difference from Golden Ratio\"\u001b[0m\u001b[0;34m)\u001b[0m\u001b[0;34m\u001b[0m\u001b[0;34m\u001b[0m\u001b[0m\n",
      "\u001b[0m\u001b[0;32m     33 \u001b[0;31m\u001b[0;34m\u001b[0m\u001b[0m\n",
      "\u001b[0m\n",
      "ipdb> q\n"
     ]
    }
   ],
   "source": [
    "%debug"
   ]
  },
  {
   "cell_type": "markdown",
   "metadata": {},
   "source": [
    "## Part 2: debugging a script after an exception\n",
    "\n",
    "For this tutorial, you will need to open a terminal and navigate to this directory"
   ]
  },
  {
   "cell_type": "markdown",
   "metadata": {},
   "source": [
    "      in Jupyter Lab, in the menu bar choose  File -> New -> Terminal\n"
   ]
  },
  {
   "cell_type": "markdown",
   "metadata": {},
   "source": [
    "The script we will work with is called \n",
    "\n",
    "```\n",
    "debug_fermi.py\n",
    "```\n",
    "\n",
    "It's a contrived example, but just opens the Fermi catalog, extracts the RA/Dec columns and a list of user-columns. For each user-column, it makes a spatial plot of galactic lon/lat with the color as the value, and a histogram plot of the value.\n",
    "\n",
    "\n",
    "run the script in ipython in interactive mode using `ipython --matplotlib -i fermi_demo.py` and it should fail with an exception.  \n",
    "\n",
    "Enter the ipython debugger by issuing the magic command:\n",
    "```\n",
    "%debug\n",
    "```\n",
    "\n",
    "Move up and down the stack (`u` and `d`) and try to find out where and why the script is failing. Try to fix it!  You can see the value of any variable by typing the variable name, and even execute any python statements using the variables in the current scope.  \n",
    "\n",
    "**hint:** to see what column names are available in an Astropy `Table` object, print the `.colnames` attribute.\n",
    "\n",
    "*** Fix the bug, and let the program run ***\n"
   ]
  },
  {
   "cell_type": "markdown",
   "metadata": {},
   "source": [
    "## Part 3: debugging a script with pdb\n",
    "\n",
    "Now, we will use the debugger to work with a script *does not throw an exception* (and therefore runs fine), but where we want to explore the code without adding print statements.   For that, we need to run the script entirely in a debugger.\n",
    "\n",
    "again, in your terminal, run the script in debugging mode as follows:\n",
    "\n",
    "###  first try running the script as usual:\n",
    "\n",
    "```\n",
    "$ python debug_fermi.py\n",
    "```\n",
    "\n",
    "and verify that it runs without an exception (you should have fixed it in step 1).\n",
    "\n",
    "### Next, explore the program as it runs...\n",
    "\n",
    "Your task is to add a third column to plot in the `cols` array in the main part of the program.  Of course you could open the catalog in a FITS viewer and see what columns are there, but let's say you don't have that option, and want to do it without modifying the code.\n",
    "\n",
    "Run the script in the debugger:\n",
    "\n",
    "```\n",
    "$ python -m pdb fermi_demo.py\n",
    "```\n",
    "\n",
    "Now, nothing is happening, so you need to start the program running. \n",
    "\n",
    "1. First type `l` to see where you are (at the top!)\n",
    "2. Use the `n` command to step through lines (use `l` again every so often to see where you are)\n",
    "3. when you get to the line that is `ra,dec,data = get_data(...)`, type `s` to step into it\n",
    "4. keep going until the table is loaded into the `table` object, and try printing `table` and `table.colnames`, as well as other attiributes\n",
    "\n",
    "\n",
    "### finally, try setting a breakpoint\n",
    "\n",
    "Obviously, it was tedius to step through all lines of code until the one you wanted, so instead do the same with a breakpoint. To set a breakpoint, use the `break <line number>` command, and then `c` to continue execution to the breakpoint so that you can jump immediately to that line of code, and then use the `c` (continue) command to continue the loop and explore the output at each iteration.\n",
    "\n",
    "1. start the debugger again\n",
    "2. type `ll` to get a longer listing\n",
    "3. add a breakpoint on the line you want to stop at (you can set more than one)\n",
    "4. type `ll` again to see where your breakpoints are\n",
    "4. type `c` to continue running until the next breakpoint\n",
    "5. explore variables again...\n",
    "6. try typing `c` again to continue to another breakpoint (try setting on in the for-loop in the main section, so you can visit it more than once)\n",
    "\n",
    "\n",
    "#### Questions to answer using only the debugger, no code!:\n",
    "\n",
    "* what is the full data type of the variable `gcoord` on line 66?"
   ]
  },
  {
   "cell_type": "markdown",
   "metadata": {},
   "source": []
  },
  {
   "cell_type": "markdown",
   "metadata": {},
   "source": [
    "* how many entries were read from the catalog?"
   ]
  },
  {
   "cell_type": "markdown",
   "metadata": {},
   "source": []
  },
  {
   "cell_type": "markdown",
   "metadata": {},
   "source": [
    "* what is the mean declination of the objects that were read?"
   ]
  },
  {
   "cell_type": "markdown",
   "metadata": {},
   "source": [
    "### If you have time and PyCharm installed...\n",
    "\n",
    "Try the same with the PyCharm debugger.  "
   ]
  },
  {
   "cell_type": "code",
   "execution_count": null,
   "metadata": {},
   "outputs": [],
   "source": []
  }
 ],
 "metadata": {
  "kernelspec": {
   "display_name": "Python 3 (ipykernel)",
   "language": "python",
   "name": "python3"
  },
  "language_info": {
   "codemirror_mode": {
    "name": "ipython",
    "version": 3
   },
   "file_extension": ".py",
   "mimetype": "text/x-python",
   "name": "python",
   "nbconvert_exporter": "python",
   "pygments_lexer": "ipython3",
   "version": "3.10.5"
  }
 },
 "nbformat": 4,
 "nbformat_minor": 4
}
