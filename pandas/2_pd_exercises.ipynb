{
 "cells": [
  {
   "cell_type": "markdown",
   "metadata": {
    "slideshow": {
     "slide_type": "slide"
    }
   },
   "source": [
    "# Pandas Exercises\n",
    "\n",
    "Tamás Gál (tamas.gal@fau.de)\n",
    "\n",
    "The latest version of this notebook is available at [https://github.com/escape2020/school2022](https://github.com/escape2020/school2022)"
   ]
  },
  {
   "cell_type": "code",
   "execution_count": 1,
   "metadata": {
    "slideshow": {
     "slide_type": "slide"
    }
   },
   "outputs": [
    {
     "name": "stdout",
     "output_type": "stream",
     "text": [
      "Python version: 3.10.5 | packaged by conda-forge | (main, Jun 14 2022, 07:06:46) [GCC 10.3.0]\n",
      "Pandas version: 1.4.2\n",
      "NumPy version: 1.22.4\n",
      "Matplotlib version: 3.5.2\n",
      "seaborn version: 0.11.2\n"
     ]
    }
   ],
   "source": [
    "%matplotlib inline\n",
    "import pandas as pd\n",
    "import numpy as np\n",
    "import seaborn as sns\n",
    "import matplotlib as ml\n",
    "import sys\n",
    "plt = ml.pyplot\n",
    "ml.rcParams['figure.figsize'] = (10.0, 5.0)\n",
    "\n",
    "print(f\"Python version: {sys.version}\\n\"\n",
    "      f\"Pandas version: {pd.__version__}\\n\"\n",
    "      f\"NumPy version: {np.__version__}\\n\"\n",
    "      f\"Matplotlib version: {ml.__version__}\\n\"\n",
    "      f\"seaborn version: {sns.__version__}\")"
   ]
  },
  {
   "cell_type": "code",
   "execution_count": 2,
   "metadata": {
    "slideshow": {
     "slide_type": "slide"
    }
   },
   "outputs": [],
   "source": [
    "from IPython.core.magic import register_line_magic\n",
    "\n",
    "@register_line_magic\n",
    "def shorterr(line):\n",
    "    \"\"\"Show only the exception message if one is raised.\"\"\"\n",
    "    try:\n",
    "        output = eval(line)\n",
    "    except Exception as e:\n",
    "        print(\"\\x1b[31m\\x1b[1m{e.__class__.__name__}: {e}\\x1b[0m\".format(e=e))\n",
    "    else:\n",
    "        return output\n",
    "    \n",
    "del shorterr"
   ]
  },
  {
   "cell_type": "code",
   "execution_count": 3,
   "metadata": {
    "slideshow": {
     "slide_type": "skip"
    }
   },
   "outputs": [],
   "source": [
    "import warnings\n",
    "warnings.filterwarnings('ignore')  # annoying UserWarnings from Jupyter/seaborn which are not fixed yet"
   ]
  },
  {
   "cell_type": "markdown",
   "metadata": {
    "slideshow": {
     "slide_type": "slide"
    }
   },
   "source": [
    "## Exercise 1\n",
    "\n",
    "Use the `pd.read_csv()` function to create a `DataFrame` from the dataset `data/neutrinos.csv`. You will encounter a few obstacles but make sure you don't modify the raw data. It's always a good idea to open the CSV file in question in an editor and see how it's formatted.\n",
    "\n",
    "Every column of the resulting `DataFrame` needs to have a well defined `dtype` (something other than `object`).\n",
    "\n",
    "**Notice: energies are measured in `GeV`, distances and positions in `m`, angles in radians and time in `ns` for all of the provided datasets.**"
   ]
  },
  {
   "cell_type": "code",
   "execution_count": 40,
   "metadata": {},
   "outputs": [
    {
     "data": {
      "text/html": [
       "<div>\n",
       "<style scoped>\n",
       "    .dataframe tbody tr th:only-of-type {\n",
       "        vertical-align: middle;\n",
       "    }\n",
       "\n",
       "    .dataframe tbody tr th {\n",
       "        vertical-align: top;\n",
       "    }\n",
       "\n",
       "    .dataframe thead th {\n",
       "        text-align: right;\n",
       "    }\n",
       "</style>\n",
       "<table border=\"1\" class=\"dataframe\">\n",
       "  <thead>\n",
       "    <tr style=\"text-align: right;\">\n",
       "      <th></th>\n",
       "      <th>2</th>\n",
       "      <th>4,656124692722159</th>\n",
       "      <th>2,686909147834136</th>\n",
       "      <th>0,1198429986834526</th>\n",
       "      <th>3,2335000038146973</th>\n",
       "      <th>71,722</th>\n",
       "      <th>121,449</th>\n",
       "      <th>363,077</th>\n",
       "      <th>0,8283433133732535</th>\n",
       "      <th>0,17165668662674652</th>\n",
       "    </tr>\n",
       "  </thead>\n",
       "  <tbody>\n",
       "    <tr>\n",
       "      <th>0</th>\n",
       "      <td>3</td>\n",
       "      <td>0,5204858401306308</td>\n",
       "      <td>1,939325715443025</td>\n",
       "      <td>0,06131500005722046</td>\n",
       "      <td>4,783999919891357</td>\n",
       "      <td>-47,592</td>\n",
       "      <td>-84,466</td>\n",
       "      <td>350,687</td>\n",
       "      <td>0,8423153692614771</td>\n",
       "      <td>0,15768463073852296</td>\n",
       "    </tr>\n",
       "    <tr>\n",
       "      <th>1</th>\n",
       "      <td>4</td>\n",
       "      <td>2,8569704309044184</td>\n",
       "      <td>1,6788966833786627</td>\n",
       "      <td>0,06146499887108803</td>\n",
       "      <td>3,983299970626831</td>\n",
       "      <td>-25,518</td>\n",
       "      <td>24,362</td>\n",
       "      <td>391,891</td>\n",
       "      <td>0,8622754491017964</td>\n",
       "      <td>0,1377245508982036</td>\n",
       "    </tr>\n",
       "    <tr>\n",
       "      <th>2</th>\n",
       "      <td>5</td>\n",
       "      <td>5,519597420755324</td>\n",
       "      <td>2,2190143556767175</td>\n",
       "      <td>0,15195700526237488</td>\n",
       "      <td>4,667799949645996</td>\n",
       "      <td>31,394</td>\n",
       "      <td>59,333</td>\n",
       "      <td>398,322</td>\n",
       "      <td>0,9700598802395209</td>\n",
       "      <td>0,029940119760479042</td>\n",
       "    </tr>\n",
       "    <tr>\n",
       "      <th>3</th>\n",
       "      <td>6</td>\n",
       "      <td>6,2491579400457535</td>\n",
       "      <td>1,3309566038994414</td>\n",
       "      <td>0,3611989915370941</td>\n",
       "      <td>4,928899765014648</td>\n",
       "      <td>45,767</td>\n",
       "      <td>84,271</td>\n",
       "      <td>453,102</td>\n",
       "      <td>0,810379241516966</td>\n",
       "      <td>0,18962075848303392</td>\n",
       "    </tr>\n",
       "    <tr>\n",
       "      <th>4</th>\n",
       "      <td>7</td>\n",
       "      <td>4,732426500401594</td>\n",
       "      <td>2,2592127232704233</td>\n",
       "      <td>0,25651898980140686</td>\n",
       "      <td>4,454699993133545</td>\n",
       "      <td>-15,944</td>\n",
       "      <td>-9,902</td>\n",
       "      <td>345,65500000000003</td>\n",
       "      <td>0,8263473053892215</td>\n",
       "      <td>0,17365269461077845</td>\n",
       "    </tr>\n",
       "  </tbody>\n",
       "</table>\n",
       "</div>"
      ],
      "text/plain": [
       "   2   4,656124692722159   2,686909147834136   0,1198429986834526  \\\n",
       "0  3  0,5204858401306308   1,939325715443025  0,06131500005722046   \n",
       "1  4  2,8569704309044184  1,6788966833786627  0,06146499887108803   \n",
       "2  5   5,519597420755324  2,2190143556767175  0,15195700526237488   \n",
       "3  6  6,2491579400457535  1,3309566038994414   0,3611989915370941   \n",
       "4  7   4,732426500401594  2,2592127232704233  0,25651898980140686   \n",
       "\n",
       "  3,2335000038146973   71,722  121,449             363,077  \\\n",
       "0  4,783999919891357  -47,592  -84,466             350,687   \n",
       "1  3,983299970626831  -25,518   24,362             391,891   \n",
       "2  4,667799949645996   31,394   59,333             398,322   \n",
       "3  4,928899765014648   45,767   84,271             453,102   \n",
       "4  4,454699993133545  -15,944   -9,902  345,65500000000003   \n",
       "\n",
       "   0,8283433133732535   0,17165668662674652  \n",
       "0  0,8423153692614771   0,15768463073852296  \n",
       "1  0,8622754491017964    0,1377245508982036  \n",
       "2  0,9700598802395209  0,029940119760479042  \n",
       "3   0,810379241516966   0,18962075848303392  \n",
       "4  0,8263473053892215   0,17365269461077845  "
      ]
     },
     "execution_count": 40,
     "metadata": {},
     "output_type": "execute_result"
    }
   ],
   "source": [
    "neutrinos = pd.read_csv('data/neutrinos.csv', header=8, sep=':', skip_blank_lines=True, index_col=False)\n",
    "neutrinos.dropna()\n",
    "neutrinos.head()"
   ]
  },
  {
   "cell_type": "code",
   "execution_count": 41,
   "metadata": {},
   "outputs": [
    {
     "data": {
      "text/html": [
       "<div>\n",
       "<style scoped>\n",
       "    .dataframe tbody tr th:only-of-type {\n",
       "        vertical-align: middle;\n",
       "    }\n",
       "\n",
       "    .dataframe tbody tr th {\n",
       "        vertical-align: top;\n",
       "    }\n",
       "\n",
       "    .dataframe thead th {\n",
       "        text-align: right;\n",
       "    }\n",
       "</style>\n",
       "<table border=\"1\" class=\"dataframe\">\n",
       "  <thead>\n",
       "    <tr style=\"text-align: right;\">\n",
       "      <th></th>\n",
       "      <th>azimuth</th>\n",
       "      <th>zenith</th>\n",
       "      <th>bjorkeny</th>\n",
       "      <th>energy</th>\n",
       "      <th>pos_x</th>\n",
       "      <th>pos_y</th>\n",
       "      <th>pos_z</th>\n",
       "      <th>proba_track</th>\n",
       "      <th>proba_cscd</th>\n",
       "    </tr>\n",
       "  </thead>\n",
       "  <tbody>\n",
       "    <tr>\n",
       "      <th>0</th>\n",
       "      <td>2.349537</td>\n",
       "      <td>1.116004</td>\n",
       "      <td>0.048998</td>\n",
       "      <td>3.3664</td>\n",
       "      <td>52.740</td>\n",
       "      <td>28.831</td>\n",
       "      <td>401.186</td>\n",
       "      <td>0.824351</td>\n",
       "      <td>0.175649</td>\n",
       "    </tr>\n",
       "    <tr>\n",
       "      <th>1</th>\n",
       "      <td>5.575786</td>\n",
       "      <td>1.742838</td>\n",
       "      <td>0.280471</td>\n",
       "      <td>3.8900</td>\n",
       "      <td>48.369</td>\n",
       "      <td>29.865</td>\n",
       "      <td>417.282</td>\n",
       "      <td>0.818363</td>\n",
       "      <td>0.181637</td>\n",
       "    </tr>\n",
       "    <tr>\n",
       "      <th>2</th>\n",
       "      <td>4.656125</td>\n",
       "      <td>2.686909</td>\n",
       "      <td>0.119843</td>\n",
       "      <td>3.2335</td>\n",
       "      <td>71.722</td>\n",
       "      <td>121.449</td>\n",
       "      <td>363.077</td>\n",
       "      <td>0.828343</td>\n",
       "      <td>0.171657</td>\n",
       "    </tr>\n",
       "    <tr>\n",
       "      <th>3</th>\n",
       "      <td>0.520486</td>\n",
       "      <td>1.939326</td>\n",
       "      <td>0.061315</td>\n",
       "      <td>4.7840</td>\n",
       "      <td>-47.592</td>\n",
       "      <td>-84.466</td>\n",
       "      <td>350.687</td>\n",
       "      <td>0.842315</td>\n",
       "      <td>0.157685</td>\n",
       "    </tr>\n",
       "    <tr>\n",
       "      <th>4</th>\n",
       "      <td>2.856970</td>\n",
       "      <td>1.678897</td>\n",
       "      <td>0.061465</td>\n",
       "      <td>3.9833</td>\n",
       "      <td>-25.518</td>\n",
       "      <td>24.362</td>\n",
       "      <td>391.891</td>\n",
       "      <td>0.862275</td>\n",
       "      <td>0.137725</td>\n",
       "    </tr>\n",
       "  </tbody>\n",
       "</table>\n",
       "</div>"
      ],
      "text/plain": [
       "    azimuth    zenith  bjorkeny  energy   pos_x    pos_y    pos_z  \\\n",
       "0  2.349537  1.116004  0.048998  3.3664  52.740   28.831  401.186   \n",
       "1  5.575786  1.742838  0.280471  3.8900  48.369   29.865  417.282   \n",
       "2  4.656125  2.686909  0.119843  3.2335  71.722  121.449  363.077   \n",
       "3  0.520486  1.939326  0.061315  4.7840 -47.592  -84.466  350.687   \n",
       "4  2.856970  1.678897  0.061465  3.9833 -25.518   24.362  391.891   \n",
       "\n",
       "   proba_track  proba_cscd  \n",
       "0     0.824351    0.175649  \n",
       "1     0.818363    0.181637  \n",
       "2     0.828343    0.171657  \n",
       "3     0.842315    0.157685  \n",
       "4     0.862275    0.137725  "
      ]
     },
     "execution_count": 41,
     "metadata": {},
     "output_type": "execute_result"
    }
   ],
   "source": [
    "neutrinos = pd.read_csv('data/neutrinos.csv', skiprows=5, comment='$', sep=':', decimal=',', index_col=0,\n",
    "                        skipfooter=1, engine='python')\n",
    "neutrinos.head()"
   ]
  },
  {
   "cell_type": "markdown",
   "metadata": {
    "slideshow": {
     "slide_type": "slide"
    }
   },
   "source": [
    "## Exercise 2\n",
    "\n",
    "Create a histogram of the neutrino energies (`energy`)."
   ]
  },
  {
   "cell_type": "code",
   "execution_count": 42,
   "metadata": {},
   "outputs": [
    {
     "data": {
      "text/plain": [
       "[Text(0.5, 0, 'Neutrino energy  (GeV)'), Text(0, 0.5, 'counts')]"
      ]
     },
     "execution_count": 42,
     "metadata": {},
     "output_type": "execute_result"
    },
    {
     "data": {
      "image/png": "[encoded data removed]",
      "text/plain": [
       "<Figure size 720x360 with 1 Axes>"
      ]
     },
     "metadata": {
      "needs_background": "light"
     },
     "output_type": "display_data"
    }
   ],
   "source": [
    "ax = neutrinos['energy'].hist(bins=100)\n",
    "ax.set(xlabel=\"Neutrino energy  (GeV)\", ylabel=\"counts\")"
   ]
  },
  {
   "cell_type": "markdown",
   "metadata": {
    "slideshow": {
     "slide_type": "slide"
    }
   },
   "source": [
    "## Exercise 3\n",
    "\n",
    "Use the `pd.read_csv()` function to create a `DataFrame` from the dataset `data/reco.csv`. The index column should be correctly parsed too. This dataset contains the reconstructed neutrinos to each of the neutrino events in the other data file."
   ]
  },
  {
   "cell_type": "code",
   "execution_count": 43,
   "metadata": {},
   "outputs": [
    {
     "data": {
      "text/html": [
       "<div>\n",
       "<style scoped>\n",
       "    .dataframe tbody tr th:only-of-type {\n",
       "        vertical-align: middle;\n",
       "    }\n",
       "\n",
       "    .dataframe tbody tr th {\n",
       "        vertical-align: top;\n",
       "    }\n",
       "\n",
       "    .dataframe thead th {\n",
       "        text-align: right;\n",
       "    }\n",
       "</style>\n",
       "<table border=\"1\" class=\"dataframe\">\n",
       "  <thead>\n",
       "    <tr style=\"text-align: right;\">\n",
       "      <th></th>\n",
       "      <th>zenith</th>\n",
       "      <th>azimuth</th>\n",
       "      <th>energy_muon</th>\n",
       "      <th>energy_neutrino</th>\n",
       "      <th>bjorken_y</th>\n",
       "      <th>quality</th>\n",
       "      <th>pos_x</th>\n",
       "      <th>pos_y</th>\n",
       "      <th>pos_z</th>\n",
       "    </tr>\n",
       "  </thead>\n",
       "  <tbody>\n",
       "    <tr>\n",
       "      <th>0</th>\n",
       "      <td>1.138133</td>\n",
       "      <td>2.180345</td>\n",
       "      <td>0.291326</td>\n",
       "      <td>1.968828</td>\n",
       "      <td>0.125</td>\n",
       "      <td>-4.354237</td>\n",
       "      <td>48.916672</td>\n",
       "      <td>32.404689</td>\n",
       "      <td>-6.251441</td>\n",
       "    </tr>\n",
       "    <tr>\n",
       "      <th>1</th>\n",
       "      <td>1.501718</td>\n",
       "      <td>4.300291</td>\n",
       "      <td>2.247325</td>\n",
       "      <td>3.973614</td>\n",
       "      <td>0.125</td>\n",
       "      <td>-4.853344</td>\n",
       "      <td>59.164913</td>\n",
       "      <td>26.016755</td>\n",
       "      <td>12.737107</td>\n",
       "    </tr>\n",
       "    <tr>\n",
       "      <th>2</th>\n",
       "      <td>2.160066</td>\n",
       "      <td>4.228711</td>\n",
       "      <td>1.748958</td>\n",
       "      <td>3.390933</td>\n",
       "      <td>0.125</td>\n",
       "      <td>-3.836176</td>\n",
       "      <td>69.988323</td>\n",
       "      <td>116.081679</td>\n",
       "      <td>-35.060437</td>\n",
       "    </tr>\n",
       "    <tr>\n",
       "      <th>3</th>\n",
       "      <td>2.016892</td>\n",
       "      <td>0.621110</td>\n",
       "      <td>6.099985</td>\n",
       "      <td>6.643886</td>\n",
       "      <td>0.625</td>\n",
       "      <td>-4.556744</td>\n",
       "      <td>-48.878254</td>\n",
       "      <td>-86.933884</td>\n",
       "      <td>-57.699791</td>\n",
       "    </tr>\n",
       "    <tr>\n",
       "      <th>4</th>\n",
       "      <td>1.944401</td>\n",
       "      <td>3.030613</td>\n",
       "      <td>4.212069</td>\n",
       "      <td>5.967662</td>\n",
       "      <td>0.125</td>\n",
       "      <td>-4.927643</td>\n",
       "      <td>-32.267179</td>\n",
       "      <td>26.163239</td>\n",
       "      <td>-12.441818</td>\n",
       "    </tr>\n",
       "  </tbody>\n",
       "</table>\n",
       "</div>"
      ],
      "text/plain": [
       "     zenith   azimuth  energy_muon  energy_neutrino  bjorken_y   quality  \\\n",
       "0  1.138133  2.180345     0.291326         1.968828      0.125 -4.354237   \n",
       "1  1.501718  4.300291     2.247325         3.973614      0.125 -4.853344   \n",
       "2  2.160066  4.228711     1.748958         3.390933      0.125 -3.836176   \n",
       "3  2.016892  0.621110     6.099985         6.643886      0.625 -4.556744   \n",
       "4  1.944401  3.030613     4.212069         5.967662      0.125 -4.927643   \n",
       "\n",
       "       pos_x       pos_y      pos_z  \n",
       "0  48.916672   32.404689  -6.251441  \n",
       "1  59.164913   26.016755  12.737107  \n",
       "2  69.988323  116.081679 -35.060437  \n",
       "3 -48.878254  -86.933884 -57.699791  \n",
       "4 -32.267179   26.163239 -12.441818  "
      ]
     },
     "execution_count": 43,
     "metadata": {},
     "output_type": "execute_result"
    }
   ],
   "source": [
    "reco = pd.read_csv('data/reco.csv', index_col=0)\n",
    "reco.head()"
   ]
  },
  {
   "cell_type": "markdown",
   "metadata": {
    "slideshow": {
     "slide_type": "slide"
    }
   },
   "source": [
    "## Exercise 4\n",
    "\n",
    "Combine the `neutrinos` and `reco` `DataFrames`  into a single `DataFrame`. This way it will be easier to examine the MC and reconstruction parameters.\n",
    "\n",
    "Hint: `pd.concat()`"
   ]
  },
  {
   "cell_type": "code",
   "execution_count": 50,
   "metadata": {},
   "outputs": [
    {
     "data": {
      "text/html": [
       "<div>\n",
       "<style scoped>\n",
       "    .dataframe tbody tr th:only-of-type {\n",
       "        vertical-align: middle;\n",
       "    }\n",
       "\n",
       "    .dataframe tbody tr th {\n",
       "        vertical-align: top;\n",
       "    }\n",
       "\n",
       "    .dataframe thead th {\n",
       "        text-align: right;\n",
       "    }\n",
       "</style>\n",
       "<table border=\"1\" class=\"dataframe\">\n",
       "  <thead>\n",
       "    <tr style=\"text-align: right;\">\n",
       "      <th></th>\n",
       "      <th>azimuth</th>\n",
       "      <th>zenith</th>\n",
       "      <th>bjorkeny</th>\n",
       "      <th>energy</th>\n",
       "      <th>pos_x</th>\n",
       "      <th>pos_y</th>\n",
       "      <th>pos_z</th>\n",
       "      <th>proba_track</th>\n",
       "      <th>proba_cscd</th>\n",
       "      <th>reco_zenith</th>\n",
       "      <th>reco_azimuth</th>\n",
       "      <th>reco_energy_muon</th>\n",
       "      <th>reco_energy_neutrino</th>\n",
       "      <th>reco_bjorken_y</th>\n",
       "      <th>reco_quality</th>\n",
       "      <th>reco_pos_x</th>\n",
       "      <th>reco_pos_y</th>\n",
       "      <th>reco_pos_z</th>\n",
       "    </tr>\n",
       "  </thead>\n",
       "  <tbody>\n",
       "    <tr>\n",
       "      <th>0</th>\n",
       "      <td>2.349537</td>\n",
       "      <td>1.116004</td>\n",
       "      <td>0.048998</td>\n",
       "      <td>3.3664</td>\n",
       "      <td>52.740</td>\n",
       "      <td>28.831</td>\n",
       "      <td>401.186</td>\n",
       "      <td>0.824351</td>\n",
       "      <td>0.175649</td>\n",
       "      <td>1.138133</td>\n",
       "      <td>2.180345</td>\n",
       "      <td>0.291326</td>\n",
       "      <td>1.968828</td>\n",
       "      <td>0.125</td>\n",
       "      <td>-4.354237</td>\n",
       "      <td>48.916672</td>\n",
       "      <td>32.404689</td>\n",
       "      <td>-6.251441</td>\n",
       "    </tr>\n",
       "    <tr>\n",
       "      <th>1</th>\n",
       "      <td>5.575786</td>\n",
       "      <td>1.742838</td>\n",
       "      <td>0.280471</td>\n",
       "      <td>3.8900</td>\n",
       "      <td>48.369</td>\n",
       "      <td>29.865</td>\n",
       "      <td>417.282</td>\n",
       "      <td>0.818363</td>\n",
       "      <td>0.181637</td>\n",
       "      <td>1.501718</td>\n",
       "      <td>4.300291</td>\n",
       "      <td>2.247325</td>\n",
       "      <td>3.973614</td>\n",
       "      <td>0.125</td>\n",
       "      <td>-4.853344</td>\n",
       "      <td>59.164913</td>\n",
       "      <td>26.016755</td>\n",
       "      <td>12.737107</td>\n",
       "    </tr>\n",
       "    <tr>\n",
       "      <th>2</th>\n",
       "      <td>4.656125</td>\n",
       "      <td>2.686909</td>\n",
       "      <td>0.119843</td>\n",
       "      <td>3.2335</td>\n",
       "      <td>71.722</td>\n",
       "      <td>121.449</td>\n",
       "      <td>363.077</td>\n",
       "      <td>0.828343</td>\n",
       "      <td>0.171657</td>\n",
       "      <td>2.160066</td>\n",
       "      <td>4.228711</td>\n",
       "      <td>1.748958</td>\n",
       "      <td>3.390933</td>\n",
       "      <td>0.125</td>\n",
       "      <td>-3.836176</td>\n",
       "      <td>69.988323</td>\n",
       "      <td>116.081679</td>\n",
       "      <td>-35.060437</td>\n",
       "    </tr>\n",
       "    <tr>\n",
       "      <th>3</th>\n",
       "      <td>0.520486</td>\n",
       "      <td>1.939326</td>\n",
       "      <td>0.061315</td>\n",
       "      <td>4.7840</td>\n",
       "      <td>-47.592</td>\n",
       "      <td>-84.466</td>\n",
       "      <td>350.687</td>\n",
       "      <td>0.842315</td>\n",
       "      <td>0.157685</td>\n",
       "      <td>2.016892</td>\n",
       "      <td>0.621110</td>\n",
       "      <td>6.099985</td>\n",
       "      <td>6.643886</td>\n",
       "      <td>0.625</td>\n",
       "      <td>-4.556744</td>\n",
       "      <td>-48.878254</td>\n",
       "      <td>-86.933884</td>\n",
       "      <td>-57.699791</td>\n",
       "    </tr>\n",
       "    <tr>\n",
       "      <th>4</th>\n",
       "      <td>2.856970</td>\n",
       "      <td>1.678897</td>\n",
       "      <td>0.061465</td>\n",
       "      <td>3.9833</td>\n",
       "      <td>-25.518</td>\n",
       "      <td>24.362</td>\n",
       "      <td>391.891</td>\n",
       "      <td>0.862275</td>\n",
       "      <td>0.137725</td>\n",
       "      <td>1.944401</td>\n",
       "      <td>3.030613</td>\n",
       "      <td>4.212069</td>\n",
       "      <td>5.967662</td>\n",
       "      <td>0.125</td>\n",
       "      <td>-4.927643</td>\n",
       "      <td>-32.267179</td>\n",
       "      <td>26.163239</td>\n",
       "      <td>-12.441818</td>\n",
       "    </tr>\n",
       "  </tbody>\n",
       "</table>\n",
       "</div>"
      ],
      "text/plain": [
       "    azimuth    zenith  bjorkeny  energy   pos_x    pos_y    pos_z  \\\n",
       "0  2.349537  1.116004  0.048998  3.3664  52.740   28.831  401.186   \n",
       "1  5.575786  1.742838  0.280471  3.8900  48.369   29.865  417.282   \n",
       "2  4.656125  2.686909  0.119843  3.2335  71.722  121.449  363.077   \n",
       "3  0.520486  1.939326  0.061315  4.7840 -47.592  -84.466  350.687   \n",
       "4  2.856970  1.678897  0.061465  3.9833 -25.518   24.362  391.891   \n",
       "\n",
       "   proba_track  proba_cscd  reco_zenith  reco_azimuth  reco_energy_muon  \\\n",
       "0     0.824351    0.175649     1.138133      2.180345          0.291326   \n",
       "1     0.818363    0.181637     1.501718      4.300291          2.247325   \n",
       "2     0.828343    0.171657     2.160066      4.228711          1.748958   \n",
       "3     0.842315    0.157685     2.016892      0.621110          6.099985   \n",
       "4     0.862275    0.137725     1.944401      3.030613          4.212069   \n",
       "\n",
       "   reco_energy_neutrino  reco_bjorken_y  reco_quality  reco_pos_x  reco_pos_y  \\\n",
       "0              1.968828           0.125     -4.354237   48.916672   32.404689   \n",
       "1              3.973614           0.125     -4.853344   59.164913   26.016755   \n",
       "2              3.390933           0.125     -3.836176   69.988323  116.081679   \n",
       "3              6.643886           0.625     -4.556744  -48.878254  -86.933884   \n",
       "4              5.967662           0.125     -4.927643  -32.267179   26.163239   \n",
       "\n",
       "   reco_pos_z  \n",
       "0   -6.251441  \n",
       "1   12.737107  \n",
       "2  -35.060437  \n",
       "3  -57.699791  \n",
       "4  -12.441818  "
      ]
     },
     "execution_count": 50,
     "metadata": {},
     "output_type": "execute_result"
    }
   ],
   "source": [
    "concatenated = pd.concat([neutrinos, reco.add_prefix('reco_')], axis=1)\n",
    "concatenated.head()"
   ]
  },
  {
   "cell_type": "markdown",
   "metadata": {
    "slideshow": {
     "slide_type": "slide"
    }
   },
   "source": [
    "## Exercise 5\n",
    "\n",
    "Create a plot to visualise the zenith reconstruction quality (true vs. reconstructed zenith).\n",
    "\n",
    "In case you did not complete exercise 4:\n",
    "\n",
    "    data = pd.concat([neutrinos reco.add_prefix('reco_')], axis=\"columns\")"
   ]
  },
  {
   "cell_type": "code",
   "execution_count": 60,
   "metadata": {},
   "outputs": [
    {
     "data": {
      "text/plain": [
       "<AxesSubplot:xlabel='zenith', ylabel='reco_zenith'>"
      ]
     },
     "execution_count": 60,
     "metadata": {},
     "output_type": "execute_result"
    },
    {
     "data": {
      "image/png": "[encoded data removed]",
      "text/plain": [
       "<Figure size 720x360 with 1 Axes>"
      ]
     },
     "metadata": {
      "needs_background": "light"
     },
     "output_type": "display_data"
    }
   ],
   "source": [
    "concatenated.plot(x='zenith', y='reco_zenith', kind='scatter')"
   ]
  },
  {
   "cell_type": "markdown",
   "metadata": {
    "slideshow": {
     "slide_type": "slide"
    }
   },
   "source": [
    "## Exercise 6\n",
    "\n",
    "Create a histogram of the cascade probabilities (__`neutrinos`__ dataset: `proba_cscd` column) for the energy ranges 1-5 GeV, 5-10 GeV, 10-20 GeV and 20-100 GeV.\n",
    "\n",
    "Hint: `pd.cut()`"
   ]
  },
  {
   "cell_type": "code",
   "execution_count": 69,
   "metadata": {},
   "outputs": [
    {
     "data": {
      "image/png": "[encoded data removed]",
      "text/plain": [
       "<Figure size 720x360 with 4 Axes>"
      ]
     },
     "metadata": {
      "needs_background": "light"
     },
     "output_type": "display_data"
    }
   ],
   "source": [
    "fig, axes = plt.subplots(2,2)\n",
    "energies = [1, 5, 10, 20, 100]\n",
    "\n",
    "for i, ax in enumerate(axes.flatten()):\n",
    "    ax.hist(concatenated[(concatenated['energy'] > energies[i]) & (concatenated['energy'] < energies[i+1])], \n",
    "            histtype='step', label=f'{energies[i]}-{energies[i+1]} GeV')"
   ]
  },
  {
   "cell_type": "markdown",
   "metadata": {
    "slideshow": {
     "slide_type": "slide"
    }
   },
   "source": [
    "## Exercise 7\n",
    "\n",
    "Create a 2D histogram showing the distribution of the `x` and `y` values of the starting positions (`pos_x` and `pos_y`) of the neutrinos."
   ]
  },
  {
   "cell_type": "code",
   "execution_count": 70,
   "metadata": {},
   "outputs": [
    {
     "data": {
      "text/html": [
       "<div>\n",
       "<style scoped>\n",
       "    .dataframe tbody tr th:only-of-type {\n",
       "        vertical-align: middle;\n",
       "    }\n",
       "\n",
       "    .dataframe tbody tr th {\n",
       "        vertical-align: top;\n",
       "    }\n",
       "\n",
       "    .dataframe thead th {\n",
       "        text-align: right;\n",
       "    }\n",
       "</style>\n",
       "<table border=\"1\" class=\"dataframe\">\n",
       "  <thead>\n",
       "    <tr style=\"text-align: right;\">\n",
       "      <th></th>\n",
       "      <th>azimuth</th>\n",
       "      <th>zenith</th>\n",
       "      <th>bjorkeny</th>\n",
       "      <th>energy</th>\n",
       "      <th>pos_x</th>\n",
       "      <th>pos_y</th>\n",
       "      <th>pos_z</th>\n",
       "      <th>proba_track</th>\n",
       "      <th>proba_cscd</th>\n",
       "      <th>reco_zenith</th>\n",
       "      <th>reco_azimuth</th>\n",
       "      <th>reco_energy_muon</th>\n",
       "      <th>reco_energy_neutrino</th>\n",
       "      <th>reco_bjorken_y</th>\n",
       "      <th>reco_quality</th>\n",
       "      <th>reco_pos_x</th>\n",
       "      <th>reco_pos_y</th>\n",
       "      <th>reco_pos_z</th>\n",
       "    </tr>\n",
       "  </thead>\n",
       "  <tbody>\n",
       "    <tr>\n",
       "      <th>0</th>\n",
       "      <td>2.349537</td>\n",
       "      <td>1.116004</td>\n",
       "      <td>0.048998</td>\n",
       "      <td>3.3664</td>\n",
       "      <td>52.740</td>\n",
       "      <td>28.831</td>\n",
       "      <td>401.186</td>\n",
       "      <td>0.824351</td>\n",
       "      <td>0.175649</td>\n",
       "      <td>1.138133</td>\n",
       "      <td>2.180345</td>\n",
       "      <td>0.291326</td>\n",
       "      <td>1.968828</td>\n",
       "      <td>0.125</td>\n",
       "      <td>-4.354237</td>\n",
       "      <td>48.916672</td>\n",
       "      <td>32.404689</td>\n",
       "      <td>-6.251441</td>\n",
       "    </tr>\n",
       "    <tr>\n",
       "      <th>1</th>\n",
       "      <td>5.575786</td>\n",
       "      <td>1.742838</td>\n",
       "      <td>0.280471</td>\n",
       "      <td>3.8900</td>\n",
       "      <td>48.369</td>\n",
       "      <td>29.865</td>\n",
       "      <td>417.282</td>\n",
       "      <td>0.818363</td>\n",
       "      <td>0.181637</td>\n",
       "      <td>1.501718</td>\n",
       "      <td>4.300291</td>\n",
       "      <td>2.247325</td>\n",
       "      <td>3.973614</td>\n",
       "      <td>0.125</td>\n",
       "      <td>-4.853344</td>\n",
       "      <td>59.164913</td>\n",
       "      <td>26.016755</td>\n",
       "      <td>12.737107</td>\n",
       "    </tr>\n",
       "    <tr>\n",
       "      <th>2</th>\n",
       "      <td>4.656125</td>\n",
       "      <td>2.686909</td>\n",
       "      <td>0.119843</td>\n",
       "      <td>3.2335</td>\n",
       "      <td>71.722</td>\n",
       "      <td>121.449</td>\n",
       "      <td>363.077</td>\n",
       "      <td>0.828343</td>\n",
       "      <td>0.171657</td>\n",
       "      <td>2.160066</td>\n",
       "      <td>4.228711</td>\n",
       "      <td>1.748958</td>\n",
       "      <td>3.390933</td>\n",
       "      <td>0.125</td>\n",
       "      <td>-3.836176</td>\n",
       "      <td>69.988323</td>\n",
       "      <td>116.081679</td>\n",
       "      <td>-35.060437</td>\n",
       "    </tr>\n",
       "    <tr>\n",
       "      <th>3</th>\n",
       "      <td>0.520486</td>\n",
       "      <td>1.939326</td>\n",
       "      <td>0.061315</td>\n",
       "      <td>4.7840</td>\n",
       "      <td>-47.592</td>\n",
       "      <td>-84.466</td>\n",
       "      <td>350.687</td>\n",
       "      <td>0.842315</td>\n",
       "      <td>0.157685</td>\n",
       "      <td>2.016892</td>\n",
       "      <td>0.621110</td>\n",
       "      <td>6.099985</td>\n",
       "      <td>6.643886</td>\n",
       "      <td>0.625</td>\n",
       "      <td>-4.556744</td>\n",
       "      <td>-48.878254</td>\n",
       "      <td>-86.933884</td>\n",
       "      <td>-57.699791</td>\n",
       "    </tr>\n",
       "    <tr>\n",
       "      <th>4</th>\n",
       "      <td>2.856970</td>\n",
       "      <td>1.678897</td>\n",
       "      <td>0.061465</td>\n",
       "      <td>3.9833</td>\n",
       "      <td>-25.518</td>\n",
       "      <td>24.362</td>\n",
       "      <td>391.891</td>\n",
       "      <td>0.862275</td>\n",
       "      <td>0.137725</td>\n",
       "      <td>1.944401</td>\n",
       "      <td>3.030613</td>\n",
       "      <td>4.212069</td>\n",
       "      <td>5.967662</td>\n",
       "      <td>0.125</td>\n",
       "      <td>-4.927643</td>\n",
       "      <td>-32.267179</td>\n",
       "      <td>26.163239</td>\n",
       "      <td>-12.441818</td>\n",
       "    </tr>\n",
       "  </tbody>\n",
       "</table>\n",
       "</div>"
      ],
      "text/plain": [
       "    azimuth    zenith  bjorkeny  energy   pos_x    pos_y    pos_z  \\\n",
       "0  2.349537  1.116004  0.048998  3.3664  52.740   28.831  401.186   \n",
       "1  5.575786  1.742838  0.280471  3.8900  48.369   29.865  417.282   \n",
       "2  4.656125  2.686909  0.119843  3.2335  71.722  121.449  363.077   \n",
       "3  0.520486  1.939326  0.061315  4.7840 -47.592  -84.466  350.687   \n",
       "4  2.856970  1.678897  0.061465  3.9833 -25.518   24.362  391.891   \n",
       "\n",
       "   proba_track  proba_cscd  reco_zenith  reco_azimuth  reco_energy_muon  \\\n",
       "0     0.824351    0.175649     1.138133      2.180345          0.291326   \n",
       "1     0.818363    0.181637     1.501718      4.300291          2.247325   \n",
       "2     0.828343    0.171657     2.160066      4.228711          1.748958   \n",
       "3     0.842315    0.157685     2.016892      0.621110          6.099985   \n",
       "4     0.862275    0.137725     1.944401      3.030613          4.212069   \n",
       "\n",
       "   reco_energy_neutrino  reco_bjorken_y  reco_quality  reco_pos_x  reco_pos_y  \\\n",
       "0              1.968828           0.125     -4.354237   48.916672   32.404689   \n",
       "1              3.973614           0.125     -4.853344   59.164913   26.016755   \n",
       "2              3.390933           0.125     -3.836176   69.988323  116.081679   \n",
       "3              6.643886           0.625     -4.556744  -48.878254  -86.933884   \n",
       "4              5.967662           0.125     -4.927643  -32.267179   26.163239   \n",
       "\n",
       "   reco_pos_z  \n",
       "0   -6.251441  \n",
       "1   12.737107  \n",
       "2  -35.060437  \n",
       "3  -57.699791  \n",
       "4  -12.441818  "
      ]
     },
     "execution_count": 70,
     "metadata": {},
     "output_type": "execute_result"
    }
   ],
   "source": [
    "concatenated.head()"
   ]
  },
  {
   "cell_type": "code",
   "execution_count": 73,
   "metadata": {},
   "outputs": [
    {
     "data": {
      "text/plain": [
       "(array([[0., 0., 0., ..., 0., 0., 0.],\n",
       "        [0., 0., 0., ..., 0., 0., 0.],\n",
       "        [0., 0., 0., ..., 0., 0., 0.],\n",
       "        ...,\n",
       "        [0., 0., 0., ..., 0., 0., 0.],\n",
       "        [0., 0., 0., ..., 0., 0., 0.],\n",
       "        [0., 0., 0., ..., 0., 0., 0.]]),\n",
       " array([-357.947  , -354.19324, -350.43948, -346.68572, -342.93196,\n",
       "        -339.1782 , -335.42444, -331.67068, -327.91692, -324.16316,\n",
       "        -320.4094 , -316.65564, -312.90188, -309.14812, -305.39436,\n",
       "        -301.6406 , -297.88684, -294.13308, -290.37932, -286.62556,\n",
       "        -282.8718 , -279.11804, -275.36428, -271.61052, -267.85676,\n",
       "        -264.103  , -260.34924, -256.59548, -252.84172, -249.08796,\n",
       "        -245.3342 , -241.58044, -237.82668, -234.07292, -230.31916,\n",
       "        -226.5654 , -222.81164, -219.05788, -215.30412, -211.55036,\n",
       "        -207.7966 , -204.04284, -200.28908, -196.53532, -192.78156,\n",
       "        -189.0278 , -185.27404, -181.52028, -177.76652, -174.01276,\n",
       "        -170.259  , -166.50524, -162.75148, -158.99772, -155.24396,\n",
       "        -151.4902 , -147.73644, -143.98268, -140.22892, -136.47516,\n",
       "        -132.7214 , -128.96764, -125.21388, -121.46012, -117.70636,\n",
       "        -113.9526 , -110.19884, -106.44508, -102.69132,  -98.93756,\n",
       "         -95.1838 ,  -91.43004,  -87.67628,  -83.92252,  -80.16876,\n",
       "         -76.415  ,  -72.66124,  -68.90748,  -65.15372,  -61.39996,\n",
       "         -57.6462 ,  -53.89244,  -50.13868,  -46.38492,  -42.63116,\n",
       "         -38.8774 ,  -35.12364,  -31.36988,  -27.61612,  -23.86236,\n",
       "         -20.1086 ,  -16.35484,  -12.60108,   -8.84732,   -5.09356,\n",
       "          -1.3398 ,    2.41396,    6.16772,    9.92148,   13.67524,\n",
       "          17.429  ,   21.18276,   24.93652,   28.69028,   32.44404,\n",
       "          36.1978 ,   39.95156,   43.70532,   47.45908,   51.21284,\n",
       "          54.9666 ,   58.72036,   62.47412,   66.22788,   69.98164,\n",
       "          73.7354 ,   77.48916,   81.24292,   84.99668,   88.75044,\n",
       "          92.5042 ,   96.25796,  100.01172,  103.76548,  107.51924,\n",
       "         111.273  ,  115.02676,  118.78052,  122.53428,  126.28804,\n",
       "         130.0418 ,  133.79556,  137.54932,  141.30308,  145.05684,\n",
       "         148.8106 ,  152.56436,  156.31812,  160.07188,  163.82564,\n",
       "         167.5794 ,  171.33316,  175.08692,  178.84068,  182.59444,\n",
       "         186.3482 ,  190.10196,  193.85572,  197.60948,  201.36324,\n",
       "         205.117  ,  208.87076,  212.62452,  216.37828,  220.13204,\n",
       "         223.8858 ,  227.63956,  231.39332,  235.14708,  238.90084,\n",
       "         242.6546 ,  246.40836,  250.16212,  253.91588,  257.66964,\n",
       "         261.4234 ,  265.17716,  268.93092,  272.68468,  276.43844,\n",
       "         280.1922 ,  283.94596,  287.69972,  291.45348,  295.20724,\n",
       "         298.961  ,  302.71476,  306.46852,  310.22228,  313.97604,\n",
       "         317.7298 ,  321.48356,  325.23732,  328.99108,  332.74484,\n",
       "         336.4986 ,  340.25236,  344.00612,  347.75988,  351.51364,\n",
       "         355.2674 ,  359.02116,  362.77492,  366.52868,  370.28244,\n",
       "         374.0362 ,  377.78996,  381.54372,  385.29748,  389.05124,\n",
       "         392.805  ]),\n",
       " array([-362.326   , -358.403395, -354.48079 , -350.558185, -346.63558 ,\n",
       "        -342.712975, -338.79037 , -334.867765, -330.94516 , -327.022555,\n",
       "        -323.09995 , -319.177345, -315.25474 , -311.332135, -307.40953 ,\n",
       "        -303.486925, -299.56432 , -295.641715, -291.71911 , -287.796505,\n",
       "        -283.8739  , -279.951295, -276.02869 , -272.106085, -268.18348 ,\n",
       "        -264.260875, -260.33827 , -256.415665, -252.49306 , -248.570455,\n",
       "        -244.64785 , -240.725245, -236.80264 , -232.880035, -228.95743 ,\n",
       "        -225.034825, -221.11222 , -217.189615, -213.26701 , -209.344405,\n",
       "        -205.4218  , -201.499195, -197.57659 , -193.653985, -189.73138 ,\n",
       "        -185.808775, -181.88617 , -177.963565, -174.04096 , -170.118355,\n",
       "        -166.19575 , -162.273145, -158.35054 , -154.427935, -150.50533 ,\n",
       "        -146.582725, -142.66012 , -138.737515, -134.81491 , -130.892305,\n",
       "        -126.9697  , -123.047095, -119.12449 , -115.201885, -111.27928 ,\n",
       "        -107.356675, -103.43407 ,  -99.511465,  -95.58886 ,  -91.666255,\n",
       "         -87.74365 ,  -83.821045,  -79.89844 ,  -75.975835,  -72.05323 ,\n",
       "         -68.130625,  -64.20802 ,  -60.285415,  -56.36281 ,  -52.440205,\n",
       "         -48.5176  ,  -44.594995,  -40.67239 ,  -36.749785,  -32.82718 ,\n",
       "         -28.904575,  -24.98197 ,  -21.059365,  -17.13676 ,  -13.214155,\n",
       "          -9.29155 ,   -5.368945,   -1.44634 ,    2.476265,    6.39887 ,\n",
       "          10.321475,   14.24408 ,   18.166685,   22.08929 ,   26.011895,\n",
       "          29.9345  ,   33.857105,   37.77971 ,   41.702315,   45.62492 ,\n",
       "          49.547525,   53.47013 ,   57.392735,   61.31534 ,   65.237945,\n",
       "          69.16055 ,   73.083155,   77.00576 ,   80.928365,   84.85097 ,\n",
       "          88.773575,   92.69618 ,   96.618785,  100.54139 ,  104.463995,\n",
       "         108.3866  ,  112.309205,  116.23181 ,  120.154415,  124.07702 ,\n",
       "         127.999625,  131.92223 ,  135.844835,  139.76744 ,  143.690045,\n",
       "         147.61265 ,  151.535255,  155.45786 ,  159.380465,  163.30307 ,\n",
       "         167.225675,  171.14828 ,  175.070885,  178.99349 ,  182.916095,\n",
       "         186.8387  ,  190.761305,  194.68391 ,  198.606515,  202.52912 ,\n",
       "         206.451725,  210.37433 ,  214.296935,  218.21954 ,  222.142145,\n",
       "         226.06475 ,  229.987355,  233.90996 ,  237.832565,  241.75517 ,\n",
       "         245.677775,  249.60038 ,  253.522985,  257.44559 ,  261.368195,\n",
       "         265.2908  ,  269.213405,  273.13601 ,  277.058615,  280.98122 ,\n",
       "         284.903825,  288.82643 ,  292.749035,  296.67164 ,  300.594245,\n",
       "         304.51685 ,  308.439455,  312.36206 ,  316.284665,  320.20727 ,\n",
       "         324.129875,  328.05248 ,  331.975085,  335.89769 ,  339.820295,\n",
       "         343.7429  ,  347.665505,  351.58811 ,  355.510715,  359.43332 ,\n",
       "         363.355925,  367.27853 ,  371.201135,  375.12374 ,  379.046345,\n",
       "         382.96895 ,  386.891555,  390.81416 ,  394.736765,  398.65937 ,\n",
       "         402.581975,  406.50458 ,  410.427185,  414.34979 ,  418.272395,\n",
       "         422.195   ]),\n",
       " <matplotlib.collections.QuadMesh at 0x7f5b54937370>)"
      ]
     },
     "execution_count": 73,
     "metadata": {},
     "output_type": "execute_result"
    },
    {
     "data": {
      "image/png": "[encoded data removed]",
      "text/plain": [
       "<Figure size 432x432 with 1 Axes>"
      ]
     },
     "metadata": {
      "needs_background": "light"
     },
     "output_type": "display_data"
    }
   ],
   "source": [
    "plt.figure(figsize=(6, 6))\n",
    "plt.hist2d(concatenated['pos_x'], concatenated['pos_y'], bins=200)"
   ]
  },
  {
   "cell_type": "markdown",
   "metadata": {
    "slideshow": {
     "slide_type": "slide"
    }
   },
   "source": [
    "## Exercise 8\n",
    "\n",
    "Use `seaborn` (`import seaborn as sns`) to recreate the 2D histogram from Exercise 7. The functions `sns.displot()` or `sns.jointplot()` will be handy."
   ]
  },
  {
   "cell_type": "code",
   "execution_count": null,
   "metadata": {},
   "outputs": [],
   "source": []
  },
  {
   "cell_type": "markdown",
   "metadata": {
    "slideshow": {
     "slide_type": "slide"
    }
   },
   "source": [
    "## Exercise 9\n",
    "\n",
    "Create two histograms of the `azimuth` and `zenith` distribution side by side, in one plot (two subplots).\n",
    "\n",
    "Try `pandas` built-in matplotlib wrapper and also the raw matplotlib library."
   ]
  },
  {
   "cell_type": "markdown",
   "metadata": {
    "slideshow": {
     "slide_type": "slide"
    }
   },
   "source": [
    "## Exercise 10\n",
    "\n",
    "Split the data into two groups: `upgoing` and `downgoing`, based on the `zenith` value (`zenith == 0` is coming directly from above, `zenith == π` from below).\n",
    "\n",
    "Try out `sns.stripplot` to verify your \"cut\" on the data!"
   ]
  },
  {
   "cell_type": "markdown",
   "metadata": {
    "slideshow": {
     "slide_type": "slide"
    }
   },
   "source": [
    "## Exercise 11\n",
    "\n",
    "Create a combined histogram (two histograms overlayed in the same plot) for both `upgoing` and `downgoing` datasets, showing the `zenith` angle."
   ]
  },
  {
   "cell_type": "markdown",
   "metadata": {
    "slideshow": {
     "slide_type": "slide"
    }
   },
   "source": [
    "## Exercise 12\n",
    "\n",
    "Read a KM3NeT Event File (`data/hits.h5`) and examine the PMT signals (`tot`) of the hits (mean, min, max) and also the earliest hit for each digital optical module (identified by `dom_id`) separately . Create a histogram of the `tot` distribution for each module. The function `pd.read_hdf()` is a good start. The dataset path inside the HDF5 file is `/hits`."
   ]
  },
  {
   "cell_type": "markdown",
   "metadata": {
    "slideshow": {
     "slide_type": "slide"
    }
   },
   "source": [
    "### Exercise: Create a histogram of all time differences between consecutive hits calculated on each DOM independently"
   ]
  },
  {
   "cell_type": "markdown",
   "metadata": {
    "slideshow": {
     "slide_type": "slide"
    }
   },
   "source": [
    "### Exercise: Examine the data for time differences below 50ns"
   ]
  },
  {
   "cell_type": "markdown",
   "metadata": {
    "slideshow": {
     "slide_type": "slide"
    }
   },
   "source": [
    "### Exercise: examine the hits on each PMT of each DOM\n",
    "\n",
    "Calculate the number of hits and the min/max/mean `tot` for each PMT on each DOM."
   ]
  }
 ],
 "metadata": {
  "celltoolbar": "Slideshow",
  "kernelspec": {
   "display_name": "eschool2022",
   "language": "python",
   "name": "eschool2022"
  },
  "language_info": {
   "codemirror_mode": {
    "name": "ipython",
    "version": 3
   },
   "file_extension": ".py",
   "mimetype": "text/x-python",
   "name": "python",
   "nbconvert_exporter": "python",
   "pygments_lexer": "ipython3",
   "version": "3.10.5"
  }
 },
 "nbformat": 4,
 "nbformat_minor": 4
}
