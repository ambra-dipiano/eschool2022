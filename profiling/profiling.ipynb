{
 "cells": [
  {
   "cell_type": "markdown",
   "metadata": {},
   "source": [
    "# Profiling and Optimization Hands-On"
   ]
  },
  {
   "cell_type": "code",
   "execution_count": 1,
   "metadata": {},
   "outputs": [],
   "source": [
    "import numpy as np\n",
    "from math import sin, cos\n",
    "import matplotlib.pyplot as plt\n",
    "from time import sleep\n",
    "\n",
    "%matplotlib inline"
   ]
  },
  {
   "cell_type": "markdown",
   "metadata": {},
   "source": [
    "## A common problem: Which implementation is faster?\n",
    "\n",
    "Example: Given a large 2D array, we will explore different ways to create the array and to calculate its mean. Determine which one is fastest, using the `%timeit` notebook function."
   ]
  },
  {
   "cell_type": "markdown",
   "metadata": {},
   "source": [
    "### setup: define our 2D array:\n",
    "\n",
    "We'll make some dummy test data that looks like:\n",
    "\n",
    "$M_{ij} = \\sin(i)\\cos(0.1 j)$\n",
    "\n",
    "and we will construct this array in multiple ways."
   ]
  },
  {
   "cell_type": "code",
   "execution_count": 2,
   "metadata": {},
   "outputs": [],
   "source": [
    "def create_array_loop(N, M):\n",
    "    \"\"\"create a 2D array using a bare loop\"\"\"\n",
    "    arr = []\n",
    "    for y in range(M):\n",
    "        row = []\n",
    "        for x in range(N):\n",
    "            row.append(sin(x) * cos(0.1 * y))\n",
    "        arr.append(row)\n",
    "    return arr\n",
    "\n",
    "\n",
    "def create_array_list(N, M):\n",
    "    \"\"\"a 2D array using a list-comprehension\"\"\"\n",
    "    return [[sin(x) * cos(0.1 * y) for x in range(N)] for y in range(M)]\n",
    "\n",
    "\n",
    "def create_array_np(N, M):\n",
    "    \"\"\" a 2D array using numpy\"\"\"\n",
    "    X, Y = np.meshgrid(np.arange(N), np.arange(M))\n",
    "    return np.sin(X) * np.cos(0.1 * Y)"
   ]
  },
  {
   "cell_type": "markdown",
   "metadata": {},
   "source": [
    "Let's first just plot the arrays, to see if they are the same:"
   ]
  },
  {
   "cell_type": "code",
   "execution_count": 3,
   "metadata": {},
   "outputs": [
    {
     "data": {
      "text/plain": [
       "<matplotlib.image.AxesImage at 0x7f02c66575e0>"
      ]
     },
     "execution_count": 3,
     "metadata": {},
     "output_type": "execute_result"
    },
    {
     "data": {
      "image/png": "[encoded data removed]",
      "text/plain": [
       "<Figure size 864x360 with 3 Axes>"
      ]
     },
     "metadata": {
      "needs_background": "light"
     },
     "output_type": "display_data"
    }
   ],
   "source": [
    "N = 30\n",
    "M = 10  # our array dimensions\n",
    "plt.figure(figsize=(12, 5))\n",
    "plt.subplot(1, 3, 1)\n",
    "plt.imshow(create_array_loop(N, M))\n",
    "plt.subplot(1, 3, 2)\n",
    "plt.imshow(create_array_list(N, M))\n",
    "plt.subplot(1, 3, 3)\n",
    "plt.imshow(create_array_np(N, M))"
   ]
  },
  {
   "cell_type": "markdown",
   "metadata": {},
   "source": [
    "### Task: determine which array creation routine is fastest\n",
    "\n",
    "And make a plot of the speed of each!   Does the result change much when the array size becomes larger? Try much larger sizes for N and M\n",
    "\n",
    "Hint: use the `%timeit -o` magic function to have `%timeit` return results (see the timeit help)"
   ]
  },
  {
   "cell_type": "markdown",
   "metadata": {},
   "source": [
    "### SOLUTION:"
   ]
  },
  {
   "cell_type": "markdown",
   "metadata": {},
   "source": [
    "Note: to minimize the uncertainty, try increasing the problem size! "
   ]
  },
  {
   "cell_type": "code",
   "execution_count": 4,
   "metadata": {},
   "outputs": [],
   "source": [
    "N = 30\n",
    "M = 10"
   ]
  },
  {
   "cell_type": "markdown",
   "metadata": {},
   "source": [
    "**Useful tip**: timeit has a *-o* option that lets you save the results for later comparison!"
   ]
  },
  {
   "cell_type": "code",
   "execution_count": 5,
   "metadata": {},
   "outputs": [],
   "source": [
    "t = {}  # a place to record out time statistics"
   ]
  },
  {
   "cell_type": "code",
   "execution_count": 6,
   "metadata": {},
   "outputs": [
    {
     "name": "stdout",
     "output_type": "stream",
     "text": [
      "58.8 µs ± 71.5 ns per loop (mean ± std. dev. of 7 runs, 10,000 loops each)\n"
     ]
    }
   ],
   "source": [
    "t['loop'] = %timeit -o create_array_loop(N,M)"
   ]
  },
  {
   "cell_type": "code",
   "execution_count": 7,
   "metadata": {},
   "outputs": [
    {
     "name": "stdout",
     "output_type": "stream",
     "text": [
      "53 µs ± 157 ns per loop (mean ± std. dev. of 7 runs, 10,000 loops each)\n"
     ]
    }
   ],
   "source": [
    "t['list'] = %timeit -o create_array_list(N,M)"
   ]
  },
  {
   "cell_type": "code",
   "execution_count": 8,
   "metadata": {},
   "outputs": [
    {
     "name": "stdout",
     "output_type": "stream",
     "text": [
      "48.7 µs ± 1.34 µs per loop (mean ± std. dev. of 7 runs, 10,000 loops each)\n"
     ]
    }
   ],
   "source": [
    "t['numpy']  = %timeit -o create_array_np(N,M)"
   ]
  },
  {
   "cell_type": "code",
   "execution_count": 9,
   "metadata": {},
   "outputs": [],
   "source": [
    "def plot_performance(time_dict):\n",
    "    mean = [t.average for t in time_dict.values()]\n",
    "    std = [t.stdev for t in time_dict.values()]\n",
    "    x = range(len(time_dict))\n",
    "    plt.errorbar(x, mean, yerr=std, lw=3, fmt=\"o\")\n",
    "    plt.xticks(np.arange(len(time_dict)), time_dict.keys())\n",
    "    plt.ylabel(\"average execution time (s)\")\n",
    "    plt.grid()"
   ]
  },
  {
   "cell_type": "code",
   "execution_count": 11,
   "metadata": {},
   "outputs": [
    {
     "data": {
      "image/png": "[encoded data removed]",
      "text/plain": [
       "<Figure size 432x288 with 1 Axes>"
      ]
     },
     "metadata": {
      "needs_background": "light"
     },
     "output_type": "display_data"
    }
   ],
   "source": [
    "plot_performance(t)"
   ]
  },
  {
   "cell_type": "markdown",
   "metadata": {},
   "source": [
    "## Task 2: determine the fastest way to find the mean of our array\n",
    "\n",
    "note that `create_array_list()` and `create_array_loop` both return a list-of-lists, while `create_array_np` returns a 2D numpy array.   There are multiple ways to compute the mean of these arrays.  See again which is fastest!\n",
    "\n",
    "try at least:\n",
    "\n",
    "1. using the built-in python `sum` function and either a for-loop or list-comprehension\n",
    "2. using pure numpy (e.g. `array.mean()`)\n",
    "3. other ways you can think of!"
   ]
  },
  {
   "cell_type": "markdown",
   "metadata": {},
   "source": [
    "### SOLUTION"
   ]
  },
  {
   "cell_type": "code",
   "execution_count": 12,
   "metadata": {},
   "outputs": [],
   "source": [
    "N = 100\n",
    "M = 100\n",
    "a_list = create_array_list(N, M)\n",
    "a_np = create_array_np(N, M)"
   ]
  },
  {
   "cell_type": "code",
   "execution_count": 13,
   "metadata": {},
   "outputs": [
    {
     "data": {
      "text/plain": [
       "-0.00017124964340864182"
      ]
     },
     "execution_count": 13,
     "metadata": {},
     "output_type": "execute_result"
    }
   ],
   "source": [
    "sum([sum(x) for x in a_list]) / (N * M)"
   ]
  },
  {
   "cell_type": "code",
   "execution_count": 14,
   "metadata": {},
   "outputs": [
    {
     "data": {
      "text/plain": [
       "-0.00017124964340864217"
      ]
     },
     "execution_count": 14,
     "metadata": {},
     "output_type": "execute_result"
    }
   ],
   "source": [
    "a_np.mean()"
   ]
  },
  {
   "cell_type": "code",
   "execution_count": 15,
   "metadata": {},
   "outputs": [
    {
     "name": "stdout",
     "output_type": "stream",
     "text": [
      "9.51 µs ± 32.6 ns per loop (mean ± std. dev. of 7 runs, 100,000 loops each)\n",
      "11.3 µs ± 60.1 ns per loop (mean ± std. dev. of 7 runs, 100,000 loops each)\n",
      "52.2 µs ± 66.3 ns per loop (mean ± std. dev. of 7 runs, 10,000 loops each)\n"
     ]
    },
    {
     "data": {
      "image/png": "[encoded data removed]",
      "text/plain": [
       "<Figure size 432x288 with 1 Axes>"
      ]
     },
     "metadata": {
      "needs_background": "light"
     },
     "output_type": "display_data"
    }
   ],
   "source": [
    "t2 = {}\n",
    "t2[\"numpy a.mean\"] = %timeit -o a_np.mean()\n",
    "t2[\"numpy mean(a)\"] = %timeit -o np.mean(a_np)\n",
    "t2[\"sum(sum(a))/len(a)\"] = %timeit -o sum([sum(x) for x in a_list])/(N*M)\n",
    "plot_performance(t2)"
   ]
  },
  {
   "cell_type": "markdown",
   "metadata": {},
   "source": [
    "# Using a profiler\n",
    "\n",
    "A profiler gives you speed measurements of *all functions in your code at once* (and all their dependencies)"
   ]
  },
  {
   "cell_type": "code",
   "execution_count": 16,
   "metadata": {},
   "outputs": [],
   "source": [
    "def slow_function(x):\n",
    "    sleep(1)\n",
    "    return x ** 2\n",
    "\n",
    "\n",
    "def faster_function(x):\n",
    "    return x ** 2"
   ]
  },
  {
   "cell_type": "code",
   "execution_count": 17,
   "metadata": {},
   "outputs": [
    {
     "name": "stdout",
     "output_type": "stream",
     "text": [
      " "
     ]
    },
    {
     "data": {
      "text/plain": [
       "<pstats.Stats at 0x7f02feb8b3d0>"
      ]
     },
     "execution_count": 17,
     "metadata": {},
     "output_type": "execute_result"
    }
   ],
   "source": [
    "%%prun -r\n",
    "\n",
    "for ii in range(5):\n",
    "    x = slow_function(ii)\n",
    "    y = faster_function(ii)"
   ]
  },
  {
   "cell_type": "code",
   "execution_count": 18,
   "metadata": {},
   "outputs": [],
   "source": [
    "stats = _"
   ]
  },
  {
   "cell_type": "code",
   "execution_count": 19,
   "metadata": {},
   "outputs": [
    {
     "name": "stdout",
     "output_type": "stream",
     "text": [
      "         18 function calls in 5.006 seconds\n",
      "\n",
      "   Ordered by: call count\n",
      "\n",
      "   ncalls  tottime  percall  cumtime  percall filename:lineno(function)\n",
      "        5    5.005    1.001    5.005    1.001 {built-in method time.sleep}\n",
      "        5    0.000    0.000    5.005    1.001 2381721144.py:1(slow_function)\n",
      "        5    0.000    0.000    0.000    0.000 2381721144.py:6(faster_function)\n",
      "        1    0.000    0.000    5.006    5.006 {built-in method builtins.exec}\n",
      "        1    0.000    0.000    5.005    5.005 <string>:1(<module>)\n",
      "        1    0.000    0.000    0.000    0.000 {method 'disable' of '_lsprof.Profiler' objects}\n",
      "\n",
      "\n"
     ]
    },
    {
     "data": {
      "text/plain": [
       "<pstats.Stats at 0x7f02feb8b3d0>"
      ]
     },
     "execution_count": 19,
     "metadata": {},
     "output_type": "execute_result"
    }
   ],
   "source": [
    "stats.sort_stats(\"call\").print_stats()"
   ]
  },
  {
   "cell_type": "markdown",
   "metadata": {},
   "source": [
    "## What about line profiling?\n",
    "\n",
    "The syntax is: \n",
    "```\n",
    "%lprun -f <function(s)>  <python statement that uses the function>\n",
    "```"
   ]
  },
  {
   "cell_type": "code",
   "execution_count": 20,
   "metadata": {},
   "outputs": [],
   "source": [
    "%load_ext line_profiler"
   ]
  },
  {
   "cell_type": "code",
   "execution_count": 21,
   "metadata": {},
   "outputs": [],
   "source": [
    "def run_all():\n",
    "    for ii in range(5):\n",
    "        x = slow_function(ii)\n",
    "        y = faster_function(ii)"
   ]
  },
  {
   "cell_type": "code",
   "execution_count": 22,
   "metadata": {},
   "outputs": [],
   "source": [
    "%lprun -f run_all run_all() "
   ]
  },
  {
   "cell_type": "markdown",
   "metadata": {},
   "source": [
    "Try adding also `-f slow_function` to see inside that function as well!"
   ]
  },
  {
   "cell_type": "code",
   "execution_count": 23,
   "metadata": {},
   "outputs": [],
   "source": [
    "%lprun -f create_array_loop create_array_loop(100,100)"
   ]
  },
  {
   "cell_type": "code",
   "execution_count": 25,
   "metadata": {},
   "outputs": [],
   "source": [
    "%lprun -f run_all -f slow_function"
   ]
  },
  {
   "cell_type": "markdown",
   "metadata": {},
   "source": [
    "## Using Snakevis to visualize a complex profile:"
   ]
  },
  {
   "cell_type": "code",
   "execution_count": 26,
   "metadata": {},
   "outputs": [
    {
     "name": "stdout",
     "output_type": "stream",
     "text": [
      "Writing some_long_script.py\n"
     ]
    }
   ],
   "source": [
    "%%file some_long_script.py\n",
    "\n",
    "import numpy as np\n",
    "import time\n",
    "\n",
    "\n",
    "def slow_function_1(x):\n",
    "    time.sleep(3)\n",
    "    return x\n",
    "\n",
    "\n",
    "def frequently_called_function(x):\n",
    "    time.sleep(0.001)\n",
    "    return x\n",
    "\n",
    "\n",
    "def slow_function_2(x):\n",
    "    time.sleep(1)\n",
    "    result = slow_function_1(x)\n",
    "    for ii in range(10_000):\n",
    "        result += frequently_called_function(x)\n",
    "    return result\n",
    "\n",
    "\n",
    "if __name__ == \"__main__\":\n",
    "\n",
    "    print(slow_function_2(1))"
   ]
  },
  {
   "cell_type": "markdown",
   "metadata": {},
   "source": [
    "Run the profiler (you would do this in a terminal normally)"
   ]
  },
  {
   "cell_type": "code",
   "execution_count": 27,
   "metadata": {},
   "outputs": [
    {
     "name": "stdout",
     "output_type": "stream",
     "text": [
      "10001\n"
     ]
    }
   ],
   "source": [
    "%%sh\n",
    "python -mcProfile  -o some_long_script.pstats some_long_script.py"
   ]
  },
  {
   "cell_type": "markdown",
   "metadata": {},
   "source": [
    "Start the visualizer:\n",
    "\n",
    "Run this in a terminal:\n",
    "```sh\n",
    "snakeviz some_long_script.pstats\n",
    "```"
   ]
  },
  {
   "cell_type": "markdown",
   "metadata": {},
   "source": [
    "### Try it  with a complex example: \n",
    "I included here as an example a long analysis of many simulated CTA gamma rays using the `ctapipe` software v0.14.x.  Some parts of this software are not yet optimized, and you can easily see which ones!\n",
    "\n",
    "```sh\n",
    "snakeviz ctapipe.pstats\n",
    "```"
   ]
  },
  {
   "cell_type": "markdown",
   "metadata": {},
   "source": [
    "# Memory Profiling"
   ]
  },
  {
   "cell_type": "code",
   "execution_count": 28,
   "metadata": {},
   "outputs": [],
   "source": [
    "import numpy as np\n",
    "from math import sin, cos"
   ]
  },
  {
   "cell_type": "code",
   "execution_count": 29,
   "metadata": {},
   "outputs": [],
   "source": [
    "%load_ext memory_profiler"
   ]
  },
  {
   "cell_type": "code",
   "execution_count": 30,
   "metadata": {},
   "outputs": [
    {
     "name": "stdout",
     "output_type": "stream",
     "text": [
      "peak memory: 129.19 MiB, increment: 14.79 MiB\n"
     ]
    }
   ],
   "source": [
    "%memit np.sum(np.sin(np.arange(1000000)))"
   ]
  },
  {
   "cell_type": "code",
   "execution_count": 31,
   "metadata": {},
   "outputs": [
    {
     "name": "stdout",
     "output_type": "stream",
     "text": [
      "peak memory: 114.80 MiB, increment: 0.00 MiB\n"
     ]
    }
   ],
   "source": [
    "%memit sum(sin(x) for x in range(1000000))"
   ]
  },
  {
   "cell_type": "markdown",
   "metadata": {},
   "source": [
    "One problem: in a notebook, this is measuring total memory, not just for the function being run, and is affected by garbage collection.  Try instead making modules:"
   ]
  },
  {
   "cell_type": "code",
   "execution_count": 32,
   "metadata": {},
   "outputs": [
    {
     "name": "stdout",
     "output_type": "stream",
     "text": [
      "Writing tmp_sum.py\n"
     ]
    }
   ],
   "source": [
    "%%writefile  tmp_sum.py\n",
    "\n",
    "import numpy as np\n",
    "import math\n",
    "\n",
    "\n",
    "def do_some_sums(n=100_000):\n",
    "    sum1 = np.sum(np.sin(np.arange(n)))\n",
    "    sum2 = sum(math.sin(x) for x in range(n))\n",
    "    make_big_array = np.zeros(1_000_000) * 0.5\n",
    "    return sum1 + sum2"
   ]
  },
  {
   "cell_type": "code",
   "execution_count": 33,
   "metadata": {},
   "outputs": [],
   "source": [
    "from tmp_sum import do_some_sums"
   ]
  },
  {
   "cell_type": "code",
   "execution_count": 34,
   "metadata": {},
   "outputs": [
    {
     "name": "stdout",
     "output_type": "stream",
     "text": [
      "\n"
     ]
    }
   ],
   "source": [
    "%mprun -f do_some_sums do_some_sums(500_000)"
   ]
  },
  {
   "cell_type": "code",
   "execution_count": null,
   "metadata": {},
   "outputs": [],
   "source": []
  },
  {
   "cell_type": "code",
   "execution_count": null,
   "metadata": {},
   "outputs": [],
   "source": []
  }
 ],
 "metadata": {
  "kernelspec": {
   "display_name": "eschool2022",
   "language": "python",
   "name": "eschool2022"
  },
  "language_info": {
   "codemirror_mode": {
    "name": "ipython",
    "version": 3
   },
   "file_extension": ".py",
   "mimetype": "text/x-python",
   "name": "python",
   "nbconvert_exporter": "python",
   "pygments_lexer": "ipython3",
   "version": "3.10.5"
  }
 },
 "nbformat": 4,
 "nbformat_minor": 4
}
